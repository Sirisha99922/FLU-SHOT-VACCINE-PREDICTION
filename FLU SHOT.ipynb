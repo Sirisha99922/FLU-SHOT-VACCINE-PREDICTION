{
 "cells": [
  {
   "cell_type": "code",
   "execution_count": 1,
   "id": "1904ce8e",
   "metadata": {},
   "outputs": [],
   "source": [
    "import pandas as pd\n",
    "import numpy as np\n",
    "import matplotlib.pyplot as plt\n",
    "%matplotlib inline"
   ]
  },
  {
   "cell_type": "code",
   "execution_count": 2,
   "id": "09c0ee5a",
   "metadata": {},
   "outputs": [
    {
     "name": "stdout",
     "output_type": "stream",
     "text": [
      "C:\\Users\\Home\\Desktop\\PYTHON\\FLU SHOT\n"
     ]
    }
   ],
   "source": [
    "import io\n",
    "%cd \"C:\\Users\\Home\\Desktop\\PYTHON\\FLU SHOT\""
   ]
  },
  {
   "cell_type": "code",
   "execution_count": 3,
   "id": "840e27d6",
   "metadata": {},
   "outputs": [],
   "source": [
    "vaccinetrain=pd.read_csv(\"training_set_features.csv\")"
   ]
  },
  {
   "cell_type": "code",
   "execution_count": 4,
   "id": "b311eda8",
   "metadata": {},
   "outputs": [],
   "source": [
    "vaccinetest=pd.read_csv(\"test_set_features.csv\")"
   ]
  },
  {
   "cell_type": "code",
   "execution_count": 5,
   "id": "dd14e230",
   "metadata": {},
   "outputs": [],
   "source": [
    "vaccinelabels=pd.read_csv(\"training_set_labels.csv\")"
   ]
  },
  {
   "cell_type": "code",
   "execution_count": 6,
   "id": "f8007097",
   "metadata": {},
   "outputs": [
    {
     "name": "stdout",
     "output_type": "stream",
     "text": [
      "(26707, 36)\n",
      "(26708, 36)\n",
      "(26707, 3)\n"
     ]
    }
   ],
   "source": [
    "print(vaccinetrain.shape)\n",
    "print(vaccinetest.shape)\n",
    "print(vaccinelabels.shape)"
   ]
  },
  {
   "cell_type": "code",
   "execution_count": 7,
   "id": "611c5623",
   "metadata": {},
   "outputs": [
    {
     "data": {
      "text/plain": [
       "employment_occupation          13470\n",
       "employment_industry            13330\n",
       "health_insurance               12274\n",
       "income_poverty                  4423\n",
       "doctor_recc_h1n1                2160\n",
       "doctor_recc_seasonal            2160\n",
       "rent_or_own                     2042\n",
       "employment_status               1463\n",
       "marital_status                  1408\n",
       "education                       1407\n",
       "chronic_med_condition            971\n",
       "child_under_6_months             820\n",
       "health_worker                    804\n",
       "opinion_seas_sick_from_vacc      537\n",
       "opinion_seas_risk                514\n",
       "opinion_seas_vacc_effective      462\n",
       "opinion_h1n1_sick_from_vacc      395\n",
       "opinion_h1n1_vacc_effective      391\n",
       "opinion_h1n1_risk                388\n",
       "household_children               249\n",
       "household_adults                 249\n",
       "behavioral_avoidance             208\n",
       "behavioral_touch_face            128\n",
       "h1n1_knowledge                   116\n",
       "h1n1_concern                      92\n",
       "behavioral_large_gatherings       87\n",
       "behavioral_outside_home           82\n",
       "behavioral_antiviral_meds         71\n",
       "behavioral_wash_hands             42\n",
       "behavioral_face_mask              19\n",
       "hhs_geo_region                     0\n",
       "census_msa                         0\n",
       "sex                                0\n",
       "race                               0\n",
       "age_group                          0\n",
       "respondent_id                      0\n",
       "dtype: int64"
      ]
     },
     "execution_count": 7,
     "metadata": {},
     "output_type": "execute_result"
    }
   ],
   "source": [
    "vaccinetrain.isnull().sum().sort_values(ascending=False)"
   ]
  },
  {
   "cell_type": "code",
   "execution_count": 8,
   "id": "5371f677",
   "metadata": {},
   "outputs": [
    {
     "data": {
      "text/plain": [
       "employment_occupation          13426\n",
       "employment_industry            13275\n",
       "health_insurance               12228\n",
       "income_poverty                  4497\n",
       "doctor_recc_h1n1                2160\n",
       "doctor_recc_seasonal            2160\n",
       "rent_or_own                     2036\n",
       "employment_status               1471\n",
       "marital_status                  1442\n",
       "education                       1407\n",
       "chronic_med_condition            932\n",
       "child_under_6_months             813\n",
       "health_worker                    789\n",
       "opinion_seas_sick_from_vacc      521\n",
       "opinion_seas_risk                499\n",
       "opinion_seas_vacc_effective      452\n",
       "opinion_h1n1_vacc_effective      398\n",
       "opinion_h1n1_risk                380\n",
       "opinion_h1n1_sick_from_vacc      375\n",
       "household_children               225\n",
       "household_adults                 225\n",
       "behavioral_avoidance             213\n",
       "behavioral_touch_face            128\n",
       "h1n1_knowledge                   122\n",
       "h1n1_concern                      85\n",
       "behavioral_outside_home           82\n",
       "behavioral_antiviral_meds         79\n",
       "behavioral_large_gatherings       72\n",
       "behavioral_wash_hands             40\n",
       "behavioral_face_mask              19\n",
       "hhs_geo_region                     0\n",
       "census_msa                         0\n",
       "sex                                0\n",
       "race                               0\n",
       "age_group                          0\n",
       "respondent_id                      0\n",
       "dtype: int64"
      ]
     },
     "execution_count": 8,
     "metadata": {},
     "output_type": "execute_result"
    }
   ],
   "source": [
    "vaccinetest.isnull().sum().sort_values(ascending=False)"
   ]
  },
  {
   "cell_type": "code",
   "execution_count": 9,
   "id": "4f6d9b39",
   "metadata": {},
   "outputs": [],
   "source": [
    "# Missing value imputation using KNN Imputer #\n",
    "# KNN is a non parametric algorithm that uses distance like Euclidean to calculate the missing values and closest \n",
    "# 5 neighbours(rows) and smallest distance values is imputed #\n",
    "# Before applying "
   ]
  },
  {
   "cell_type": "code",
   "execution_count": 10,
   "id": "f600be32",
   "metadata": {},
   "outputs": [],
   "source": [
    "from sklearn.preprocessing import LabelEncoder"
   ]
  },
  {
   "cell_type": "code",
   "execution_count": 11,
   "id": "b6109b22",
   "metadata": {},
   "outputs": [],
   "source": [
    "combinedf=pd.concat([vaccinetrain,vaccinetest],axis=0) # Row concatenation"
   ]
  },
  {
   "cell_type": "code",
   "execution_count": 12,
   "id": "a3a76246",
   "metadata": {},
   "outputs": [],
   "source": [
    "stringcols=combinedf.drop([\"respondent_id\"],axis=1)"
   ]
  },
  {
   "cell_type": "code",
   "execution_count": 13,
   "id": "cbfd8519",
   "metadata": {},
   "outputs": [],
   "source": [
    "stringcols=stringcols.astype(str).apply(lambda series:pd.Series(LabelEncoder().fit_transform(series[series.notnull()]),\n",
    "index=series[series.notnull()].index))"
   ]
  },
  {
   "cell_type": "code",
   "execution_count": 14,
   "id": "b2d7a06c",
   "metadata": {},
   "outputs": [],
   "source": [
    "from sklearn.impute import KNNImputer"
   ]
  },
  {
   "cell_type": "code",
   "execution_count": 15,
   "id": "d1a06d34",
   "metadata": {},
   "outputs": [],
   "source": [
    "imputer=KNNImputer()"
   ]
  },
  {
   "cell_type": "code",
   "execution_count": 16,
   "id": "78f7f401",
   "metadata": {},
   "outputs": [],
   "source": [
    "stringcolsimp=imputer.fit_transform(stringcols)"
   ]
  },
  {
   "cell_type": "code",
   "execution_count": 17,
   "id": "7690f000",
   "metadata": {},
   "outputs": [],
   "source": [
    "stringcolsimp=pd.DataFrame(stringcolsimp,columns=stringcols.columns)"
   ]
  },
  {
   "cell_type": "code",
   "execution_count": 18,
   "id": "5a342288",
   "metadata": {},
   "outputs": [],
   "source": [
    "vaccinetraindf=stringcolsimp.loc[0:26706]"
   ]
  },
  {
   "cell_type": "code",
   "execution_count": 19,
   "id": "b3a1f089",
   "metadata": {},
   "outputs": [],
   "source": [
    "vaccinetestdf=stringcolsimp.loc[26707:53415]"
   ]
  },
  {
   "cell_type": "code",
   "execution_count": 20,
   "id": "b20b46c4",
   "metadata": {},
   "outputs": [
    {
     "name": "stdout",
     "output_type": "stream",
     "text": [
      "(26707, 35)\n",
      "(26708, 35)\n"
     ]
    }
   ],
   "source": [
    "print(vaccinetraindf.shape)\n",
    "print(vaccinetestdf.shape)"
   ]
  },
  {
   "cell_type": "code",
   "execution_count": 21,
   "id": "c3996849",
   "metadata": {},
   "outputs": [
    {
     "data": {
      "text/plain": [
       "0    14272\n",
       "1    12435\n",
       "Name: seasonal_vaccine, dtype: int64"
      ]
     },
     "execution_count": 21,
     "metadata": {},
     "output_type": "execute_result"
    }
   ],
   "source": [
    "vaccinelabels.seasonal_vaccine.value_counts() # Balanced Data"
   ]
  },
  {
   "cell_type": "code",
   "execution_count": 22,
   "id": "4487f53a",
   "metadata": {},
   "outputs": [
    {
     "data": {
      "text/plain": [
       "0    21033\n",
       "1     5674\n",
       "Name: h1n1_vaccine, dtype: int64"
      ]
     },
     "execution_count": 22,
     "metadata": {},
     "output_type": "execute_result"
    }
   ],
   "source": [
    "vaccinelabels.h1n1_vaccine.value_counts() # Imbalanced Data"
   ]
  },
  {
   "cell_type": "code",
   "execution_count": 23,
   "id": "4f14d9d9",
   "metadata": {},
   "outputs": [],
   "source": [
    "y=vaccinelabels.seasonal_vaccine\n",
    "X=vaccinetraindf"
   ]
  },
  {
   "cell_type": "code",
   "execution_count": 24,
   "id": "5c30f2d2",
   "metadata": {},
   "outputs": [],
   "source": [
    "# Build Logistic Regression on the Data\n",
    "from sklearn.linear_model import LogisticRegression"
   ]
  },
  {
   "cell_type": "code",
   "execution_count": 25,
   "id": "da5744af",
   "metadata": {},
   "outputs": [],
   "source": [
    "logit=LogisticRegression(max_iter=200)"
   ]
  },
  {
   "cell_type": "code",
   "execution_count": 26,
   "id": "b57736bc",
   "metadata": {},
   "outputs": [],
   "source": [
    "logitmodel=logit.fit(X,y)"
   ]
  },
  {
   "cell_type": "code",
   "execution_count": 27,
   "id": "edcdb799",
   "metadata": {},
   "outputs": [
    {
     "data": {
      "text/plain": [
       "0.7611487624967237"
      ]
     },
     "execution_count": 27,
     "metadata": {},
     "output_type": "execute_result"
    }
   ],
   "source": [
    "logitmodel.score(X,y)"
   ]
  },
  {
   "cell_type": "code",
   "execution_count": 28,
   "id": "97c8135b",
   "metadata": {},
   "outputs": [],
   "source": [
    "logitpredict=logitmodel.predict(X)"
   ]
  },
  {
   "cell_type": "code",
   "execution_count": 29,
   "id": "5c3ed94c",
   "metadata": {},
   "outputs": [],
   "source": [
    "from sklearn.metrics import classification_report"
   ]
  },
  {
   "cell_type": "code",
   "execution_count": 30,
   "id": "5ccfa9c4",
   "metadata": {},
   "outputs": [
    {
     "name": "stdout",
     "output_type": "stream",
     "text": [
      "              precision    recall  f1-score   support\n",
      "\n",
      "           0       0.77      0.79      0.78     14272\n",
      "           1       0.75      0.73      0.74     12435\n",
      "\n",
      "    accuracy                           0.76     26707\n",
      "   macro avg       0.76      0.76      0.76     26707\n",
      "weighted avg       0.76      0.76      0.76     26707\n",
      "\n"
     ]
    }
   ],
   "source": [
    "print(classification_report(y,logitpredict))"
   ]
  },
  {
   "cell_type": "code",
   "execution_count": 31,
   "id": "161b5a23",
   "metadata": {},
   "outputs": [],
   "source": [
    "y1=vaccinelabels.h1n1_vaccine"
   ]
  },
  {
   "cell_type": "code",
   "execution_count": 32,
   "id": "cc66cd5c",
   "metadata": {},
   "outputs": [],
   "source": [
    "logitmodel_h1n1=logit.fit(X,y1)"
   ]
  },
  {
   "cell_type": "code",
   "execution_count": 33,
   "id": "ae70cdeb",
   "metadata": {},
   "outputs": [
    {
     "data": {
      "text/plain": [
       "0.8279102856928895"
      ]
     },
     "execution_count": 33,
     "metadata": {},
     "output_type": "execute_result"
    }
   ],
   "source": [
    "logitmodel_h1n1.score(X,y1)"
   ]
  },
  {
   "cell_type": "code",
   "execution_count": 34,
   "id": "aaa24dd3",
   "metadata": {},
   "outputs": [],
   "source": [
    "logitpredict_h1n1=logitmodel_h1n1.predict(X)"
   ]
  },
  {
   "cell_type": "code",
   "execution_count": 35,
   "id": "bdc284d6",
   "metadata": {},
   "outputs": [
    {
     "name": "stdout",
     "output_type": "stream",
     "text": [
      "              precision    recall  f1-score   support\n",
      "\n",
      "           0       0.85      0.95      0.90     21033\n",
      "           1       0.67      0.37      0.48      5674\n",
      "\n",
      "    accuracy                           0.83     26707\n",
      "   macro avg       0.76      0.66      0.69     26707\n",
      "weighted avg       0.81      0.83      0.81     26707\n",
      "\n"
     ]
    }
   ],
   "source": [
    "print(classification_report(y1,logitpredict_h1n1))"
   ]
  },
  {
   "cell_type": "code",
   "execution_count": 36,
   "id": "46f221ef",
   "metadata": {},
   "outputs": [],
   "source": [
    "# Run using seasonal_vaccine(y)\n",
    "# Decision Tree Classifier\n",
    "# Random Forest Classifier\n",
    "# Gradient Boosing classifier"
   ]
  },
  {
   "cell_type": "code",
   "execution_count": 37,
   "id": "60e9f56b",
   "metadata": {},
   "outputs": [],
   "source": [
    "from sklearn.tree import DecisionTreeClassifier"
   ]
  },
  {
   "cell_type": "code",
   "execution_count": 38,
   "id": "0f4d0a17",
   "metadata": {},
   "outputs": [],
   "source": [
    "tree=DecisionTreeClassifier(max_depth=8)"
   ]
  },
  {
   "cell_type": "code",
   "execution_count": 39,
   "id": "555d85b5",
   "metadata": {},
   "outputs": [],
   "source": [
    "treemodel=tree.fit(X,y)"
   ]
  },
  {
   "cell_type": "code",
   "execution_count": 40,
   "id": "7e0be2ff",
   "metadata": {},
   "outputs": [
    {
     "data": {
      "text/plain": [
       "0.7861983749578763"
      ]
     },
     "execution_count": 40,
     "metadata": {},
     "output_type": "execute_result"
    }
   ],
   "source": [
    "treemodel.score(X,y)"
   ]
  },
  {
   "cell_type": "code",
   "execution_count": 41,
   "id": "7363c30a",
   "metadata": {},
   "outputs": [],
   "source": [
    "treepredict=treemodel.predict(X)"
   ]
  },
  {
   "cell_type": "code",
   "execution_count": 42,
   "id": "74b85337",
   "metadata": {},
   "outputs": [
    {
     "name": "stdout",
     "output_type": "stream",
     "text": [
      "              precision    recall  f1-score   support\n",
      "\n",
      "           0       0.80      0.80      0.80     14272\n",
      "           1       0.77      0.77      0.77     12435\n",
      "\n",
      "    accuracy                           0.79     26707\n",
      "   macro avg       0.79      0.79      0.79     26707\n",
      "weighted avg       0.79      0.79      0.79     26707\n",
      "\n"
     ]
    }
   ],
   "source": [
    "print(classification_report(y,treepredict))"
   ]
  },
  {
   "cell_type": "code",
   "execution_count": 43,
   "id": "eb9d9d7d",
   "metadata": {},
   "outputs": [],
   "source": [
    "from sklearn.ensemble import RandomForestClassifier"
   ]
  },
  {
   "cell_type": "code",
   "execution_count": 44,
   "id": "97e64c2b",
   "metadata": {},
   "outputs": [],
   "source": [
    "RF=RandomForestClassifier(3)"
   ]
  },
  {
   "cell_type": "code",
   "execution_count": 45,
   "id": "cc4ba1d3",
   "metadata": {},
   "outputs": [],
   "source": [
    "RFmodel=RF.fit(X,y)"
   ]
  },
  {
   "cell_type": "code",
   "execution_count": 46,
   "id": "90da4963",
   "metadata": {},
   "outputs": [
    {
     "data": {
      "text/plain": [
       "0.9458194480847718"
      ]
     },
     "execution_count": 46,
     "metadata": {},
     "output_type": "execute_result"
    }
   ],
   "source": [
    "RFmodel.score(X,y)"
   ]
  },
  {
   "cell_type": "code",
   "execution_count": 47,
   "id": "0972c63e",
   "metadata": {},
   "outputs": [],
   "source": [
    "RFpredict=RFmodel.predict(X)"
   ]
  },
  {
   "cell_type": "code",
   "execution_count": 48,
   "id": "979d6f0d",
   "metadata": {},
   "outputs": [
    {
     "name": "stdout",
     "output_type": "stream",
     "text": [
      "              precision    recall  f1-score   support\n",
      "\n",
      "           0       0.95      0.95      0.95     14272\n",
      "           1       0.95      0.94      0.94     12435\n",
      "\n",
      "    accuracy                           0.95     26707\n",
      "   macro avg       0.95      0.95      0.95     26707\n",
      "weighted avg       0.95      0.95      0.95     26707\n",
      "\n"
     ]
    }
   ],
   "source": [
    "print(classification_report(y,RFpredict))"
   ]
  },
  {
   "cell_type": "code",
   "execution_count": 51,
   "id": "8a507d7b",
   "metadata": {},
   "outputs": [],
   "source": [
    "from sklearn.ensemble import GradientBoostingClassifier"
   ]
  },
  {
   "cell_type": "code",
   "execution_count": 52,
   "id": "1c219604",
   "metadata": {},
   "outputs": [],
   "source": [
    "gbm=GradientBoostingClassifier(n_estimators=1000)"
   ]
  },
  {
   "cell_type": "code",
   "execution_count": 53,
   "id": "d3029687",
   "metadata": {},
   "outputs": [],
   "source": [
    "gbmmodel=gbm.fit(X,y)"
   ]
  },
  {
   "cell_type": "code",
   "execution_count": 54,
   "id": "98f48088",
   "metadata": {},
   "outputs": [
    {
     "data": {
      "text/plain": [
       "0.8201595087430261"
      ]
     },
     "execution_count": 54,
     "metadata": {},
     "output_type": "execute_result"
    }
   ],
   "source": [
    "gbmmodel.score(X,y)"
   ]
  },
  {
   "cell_type": "code",
   "execution_count": 55,
   "id": "2369571e",
   "metadata": {},
   "outputs": [],
   "source": [
    "gbmpredict=gbmmodel.predict(X)"
   ]
  },
  {
   "cell_type": "code",
   "execution_count": 56,
   "id": "3e206acb",
   "metadata": {},
   "outputs": [
    {
     "name": "stdout",
     "output_type": "stream",
     "text": [
      "              precision    recall  f1-score   support\n",
      "\n",
      "           0       0.82      0.84      0.83     14272\n",
      "           1       0.82      0.79      0.80     12435\n",
      "\n",
      "    accuracy                           0.82     26707\n",
      "   macro avg       0.82      0.82      0.82     26707\n",
      "weighted avg       0.82      0.82      0.82     26707\n",
      "\n"
     ]
    }
   ],
   "source": [
    "print(classification_report(y,gbmpredict))"
   ]
  },
  {
   "cell_type": "code",
   "execution_count": 57,
   "id": "06e4ee60",
   "metadata": {},
   "outputs": [],
   "source": [
    "from sklearn.tree import plot_tree"
   ]
  },
  {
   "cell_type": "code",
   "execution_count": 58,
   "id": "7e40cabb",
   "metadata": {},
   "outputs": [
    {
     "data": {
      "text/plain": [
       "[Text(418.5, 1467.72, 'opinion_seas_vacc_effective <= 3.5\\ngini = 0.498\\nsamples = 26707\\nvalue = [14272, 12435]'),\n",
       " Text(209.25, 1141.56, 'opinion_seas_risk <= 1.5\\ngini = 0.436\\nsamples = 16272\\nvalue = [11042, 5230]'),\n",
       " Text(104.625, 815.4000000000001, 'doctor_recc_seasonal <= 0.5\\ngini = 0.347\\nsamples = 11135\\nvalue = [8652, 2483]'),\n",
       " Text(52.3125, 489.24, 'age_group <= 3.5\\ngini = 0.271\\nsamples = 8193\\nvalue = [6870, 1323]'),\n",
       " Text(26.15625, 163.08000000000015, '\\n  (...)  \\n'),\n",
       " Text(78.46875, 163.08000000000015, '\\n  (...)  \\n'),\n",
       " Text(156.9375, 489.24, 'doctor_recc_seasonal <= 1.5\\ngini = 0.478\\nsamples = 2942\\nvalue = [1782, 1160]'),\n",
       " Text(130.78125, 163.08000000000015, '\\n  (...)  \\n'),\n",
       " Text(183.09375, 163.08000000000015, '\\n  (...)  \\n'),\n",
       " Text(313.875, 815.4000000000001, 'doctor_recc_seasonal <= 0.5\\ngini = 0.498\\nsamples = 5137\\nvalue = [2390, 2747]'),\n",
       " Text(261.5625, 489.24, 'age_group <= 1.5\\ngini = 0.49\\nsamples = 2953\\nvalue = [1690, 1263]'),\n",
       " Text(235.40625, 163.08000000000015, '\\n  (...)  \\n'),\n",
       " Text(287.71875, 163.08000000000015, '\\n  (...)  \\n'),\n",
       " Text(366.1875, 489.24, 'doctor_recc_seasonal <= 1.5\\ngini = 0.436\\nsamples = 2184\\nvalue = [700, 1484]'),\n",
       " Text(340.03125, 163.08000000000015, '\\n  (...)  \\n'),\n",
       " Text(392.34375, 163.08000000000015, '\\n  (...)  \\n'),\n",
       " Text(627.75, 1141.56, 'age_group <= 2.5\\ngini = 0.427\\nsamples = 10435\\nvalue = [3230, 7205]'),\n",
       " Text(523.125, 815.4000000000001, 'opinion_seas_risk <= 1.5\\ngini = 0.493\\nsamples = 4591\\nvalue = [2018, 2573]'),\n",
       " Text(470.8125, 489.24, 'doctor_recc_seasonal <= 0.5\\ngini = 0.472\\nsamples = 1708\\nvalue = [1057, 651]'),\n",
       " Text(444.65625, 163.08000000000015, '\\n  (...)  \\n'),\n",
       " Text(496.96875, 163.08000000000015, '\\n  (...)  \\n'),\n",
       " Text(575.4375, 489.24, 'rent_or_own <= 0.5\\ngini = 0.444\\nsamples = 2883\\nvalue = [961, 1922]'),\n",
       " Text(549.28125, 163.08000000000015, '\\n  (...)  \\n'),\n",
       " Text(601.59375, 163.08000000000015, '\\n  (...)  \\n'),\n",
       " Text(732.375, 815.4000000000001, 'opinion_seas_risk <= 1.5\\ngini = 0.329\\nsamples = 5844\\nvalue = [1212, 4632]'),\n",
       " Text(680.0625, 489.24, 'doctor_recc_seasonal <= 0.5\\ngini = 0.421\\nsamples = 2085\\nvalue = [627, 1458]'),\n",
       " Text(653.90625, 163.08000000000015, '\\n  (...)  \\n'),\n",
       " Text(706.21875, 163.08000000000015, '\\n  (...)  \\n'),\n",
       " Text(784.6875, 489.24, 'opinion_seas_vacc_effective <= 4.5\\ngini = 0.263\\nsamples = 3759\\nvalue = [585, 3174]'),\n",
       " Text(758.53125, 163.08000000000015, '\\n  (...)  \\n'),\n",
       " Text(810.84375, 163.08000000000015, '\\n  (...)  \\n')]"
      ]
     },
     "execution_count": 58,
     "metadata": {},
     "output_type": "execute_result"
    },
    {
     "data": {
      "image/png": "[encoded data removed]",
      "text/plain": [
       "<Figure size 1080x2160 with 1 Axes>"
      ]
     },
     "metadata": {
      "needs_background": "light"
     },
     "output_type": "display_data"
    }
   ],
   "source": [
    "plt.figure(figsize=(15,30))\n",
    "plot_tree(treemodel,max_depth=3,feature_names=X.columns)"
   ]
  },
  {
   "cell_type": "code",
   "execution_count": 59,
   "id": "f117a794",
   "metadata": {},
   "outputs": [],
   "source": [
    "from sklearn.svm import SVC"
   ]
  },
  {
   "cell_type": "code",
   "execution_count": 60,
   "id": "b405eac6",
   "metadata": {},
   "outputs": [],
   "source": [
    "svm=SVC()"
   ]
  },
  {
   "cell_type": "code",
   "execution_count": 61,
   "id": "d3cd219f",
   "metadata": {},
   "outputs": [],
   "source": [
    "svmodel=svm.fit(X,y)"
   ]
  },
  {
   "cell_type": "code",
   "execution_count": 62,
   "id": "e65877fe",
   "metadata": {},
   "outputs": [
    {
     "data": {
      "text/plain": [
       "0.7783352679072902"
      ]
     },
     "execution_count": 62,
     "metadata": {},
     "output_type": "execute_result"
    }
   ],
   "source": [
    "svmodel.score(X,y)"
   ]
  },
  {
   "cell_type": "code",
   "execution_count": 63,
   "id": "2c916aba",
   "metadata": {},
   "outputs": [],
   "source": [
    "svmpredict=svmodel.predict(X)"
   ]
  },
  {
   "cell_type": "code",
   "execution_count": 64,
   "id": "f8a00267",
   "metadata": {},
   "outputs": [
    {
     "name": "stdout",
     "output_type": "stream",
     "text": [
      "              precision    recall  f1-score   support\n",
      "\n",
      "           0       0.78      0.81      0.80     14272\n",
      "           1       0.77      0.74      0.76     12435\n",
      "\n",
      "    accuracy                           0.78     26707\n",
      "   macro avg       0.78      0.78      0.78     26707\n",
      "weighted avg       0.78      0.78      0.78     26707\n",
      "\n"
     ]
    }
   ],
   "source": [
    "print(classification_report(y,svmpredict))"
   ]
  },
  {
   "cell_type": "code",
   "execution_count": null,
   "id": "7ebecdd4",
   "metadata": {},
   "outputs": [],
   "source": []
  }
 ],
 "metadata": {
  "kernelspec": {
   "display_name": "Python 3 (ipykernel)",
   "language": "python",
   "name": "python3"
  },
  "language_info": {
   "codemirror_mode": {
    "name": "ipython",
    "version": 3
   },
   "file_extension": ".py",
   "mimetype": "text/x-python",
   "name": "python",
   "nbconvert_exporter": "python",
   "pygments_lexer": "ipython3",
   "version": "3.9.12"
  }
 },
 "nbformat": 4,
 "nbformat_minor": 5
}
